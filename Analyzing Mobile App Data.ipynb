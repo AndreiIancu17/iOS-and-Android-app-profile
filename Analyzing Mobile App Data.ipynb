{
 "cells": [
  {
   "cell_type": "markdown",
   "id": "61f3b5a0",
   "metadata": {},
   "source": [
    "# Analyzing Mobile App Data"
   ]
  },
  {
   "cell_type": "markdown",
   "id": "fccd9f40",
   "metadata": {},
   "source": [
    "This project focuses on analyzing data about fictional Android and iOS apps that are made available on Google Play and in the App Store.\n",
    "\n",
    "All apps are made free to download and the only source of revenue comes from in-app ads. Therefore, the number of users determines the profit from each app: the more engaging the add, the more people will use the app. "
   ]
  },
  {
   "cell_type": "code",
   "execution_count": 2,
   "id": "d34f022d",
   "metadata": {},
   "outputs": [],
   "source": [
    "def explore_data(dataset, start, end, rows_and_columns=False):\n",
    "    dataset_slice = dataset[start:end]    \n",
    "    for row in dataset_slice:\n",
    "        print(row)\n",
    "        print('\\n') # adds a new (empty) line after each row\n",
    "\n",
    "    if rows_and_columns:\n",
    "        print('Number of rows:', len(dataset))\n",
    "        print('Number of columns:', len(dataset[0]))"
   ]
  },
  {
   "cell_type": "code",
   "execution_count": 31,
   "id": "a86b6f78",
   "metadata": {},
   "outputs": [],
   "source": [
    "open_apple = open(r'C:\\Users\\aii20\\OneDrive - University of Exeter\\Desktop\\dataquest\\AppleStore.csv', encoding=\"utf8\")\n",
    "open_google = open(r'C:\\Users\\aii20\\OneDrive - University of Exeter\\Desktop\\dataquest\\googleplaystore.csv', encoding=\"utf8\")\n",
    "\n",
    "from csv import reader\n",
    "read_apple = reader(open_apple)\n",
    "read_google = reader(open_google)\n",
    "apple = list(read_apple)\n",
    "google = list(read_google)\n"
   ]
  },
  {
   "cell_type": "markdown",
   "id": "41091a00",
   "metadata": {},
   "source": [
    "Documentation for the AppleStore dataset can be found here: https://www.kaggle.com/datasets/ramamet4/app-store-apple-data-set-10k-apps. In order to better understand what each column means, press **View more** under the **About Dataset** section."
   ]
  },
  {
   "cell_type": "code",
   "execution_count": 30,
   "id": "f6cdd800",
   "metadata": {
    "scrolled": true
   },
   "outputs": [
    {
     "name": "stdout",
     "output_type": "stream",
     "text": [
      "['id', 'track_name', 'size_bytes', 'currency', 'price', 'rating_count_tot', 'rating_count_ver', 'user_rating', 'user_rating_ver', 'ver', 'cont_rating', 'prime_genre', 'sup_devices.num', 'ipadSc_urls.num', 'lang.num', 'vpp_lic']\n",
      "['App', 'Category', 'Rating', 'Reviews', 'Size', 'Installs', 'Type', 'Price', 'Content Rating', 'Genres', 'Last Updated', 'Current Ver', 'Android Ver']\n"
     ]
    }
   ],
   "source": [
    "apple_columns = apple[0]\n",
    "google_columns = google[0]\n",
    "print(apple_columns)\n",
    "print(google_columns)"
   ]
  },
  {
   "cell_type": "code",
   "execution_count": 36,
   "id": "c7c0c10f",
   "metadata": {},
   "outputs": [],
   "source": [
    "del google[10473]"
   ]
  },
  {
   "cell_type": "code",
   "execution_count": 37,
   "id": "def13d9b",
   "metadata": {},
   "outputs": [
    {
     "name": "stdout",
     "output_type": "stream",
     "text": [
      "Number of duplicate apps: 1181\n",
      "\n",
      "\n",
      "These are some of the duplicate apps: ['Quick PDF Scanner + OCR FREE', 'Box', 'Google My Business', 'ZOOM Cloud Meetings', 'join.me - Simple Meetings', 'Box', 'Zenefits', 'Google Ads', 'Google My Business', 'Slack']\n"
     ]
    }
   ],
   "source": [
    "duplicate_apps = []\n",
    "unique_apps = []\n",
    "\n",
    "for app in google[1:]:\n",
    "    name = app[0]\n",
    "    if name in unique_apps:\n",
    "        duplicate_apps.append(name)\n",
    "    else:\n",
    "        unique_apps.append(name)\n",
    "\n",
    "print('Number of duplicate apps:', len(duplicate_apps))\n",
    "print('\\n')\n",
    "print('These are some of the duplicate apps:', duplicate_apps[:10])"
   ]
  },
  {
   "cell_type": "markdown",
   "id": "cc7389cd",
   "metadata": {},
   "source": [
    "As we can see, there are 1181 duplicate apps in the Google Play store. In order for a non-random removal of the duplicates, we'll keep the row with the highest number of reviews, as that is the latest version of the app."
   ]
  },
  {
   "cell_type": "code",
   "execution_count": 38,
   "id": "a9210c18",
   "metadata": {},
   "outputs": [],
   "source": [
    "reviews_max = {}\n",
    "for app in google[1:]:\n",
    "    name = app[0]\n",
    "    n_reviews = float(app[3])\n",
    "    if name in reviews_max and reviews_max[name] < n_reviews:\n",
    "        reviews_max[name] = n_reviews\n",
    "    elif name not in reviews_max:\n",
    "        reviews_max[name] = n_reviews"
   ]
  },
  {
   "cell_type": "markdown",
   "id": "98a3fed9",
   "metadata": {},
   "source": [
    "The above code creates a dictionary which stores the highest number of reviews for each app. It uses the app name as the key and the number of reviews as the value. "
   ]
  },
  {
   "cell_type": "code",
   "execution_count": 40,
   "id": "075e2d44",
   "metadata": {},
   "outputs": [
    {
     "name": "stdout",
     "output_type": "stream",
     "text": [
      "The dictionary has 9659 entries\n",
      "\n",
      "\n",
      "This is the highest number of reviews for Instagram: 66577446.0\n"
     ]
    }
   ],
   "source": [
    "print('The dictionary has', len(reviews_max), 'entries')\n",
    "print('\\n')\n",
    "print('This is the highest number of reviews for Instagram:', reviews_max['Instagram'])"
   ]
  },
  {
   "cell_type": "code",
   "execution_count": 41,
   "id": "a5d99918",
   "metadata": {},
   "outputs": [],
   "source": [
    "android_clean = []\n",
    "already_added = []\n",
    "for app in google[1:]:\n",
    "    name = app[0]\n",
    "    n_reviews = float(app[3])\n",
    "    if n_reviews == reviews_max[name] and name not in already_added:\n",
    "        android_clean.append(app)\n",
    "        already_added.append(name) "
   ]
  },
  {
   "cell_type": "markdown",
   "id": "43e37092",
   "metadata": {},
   "source": [
    "The above code creates two empty lists. One will store the cleaned data set and the other the app names. The data set which stores the app names helps us keep track of the apps already added to the cleaned data set, so not to be added again."
   ]
  },
  {
   "cell_type": "code",
   "execution_count": 42,
   "id": "d8d97178",
   "metadata": {},
   "outputs": [
    {
     "name": "stdout",
     "output_type": "stream",
     "text": [
      "The cleaned data set has 9659 apps\n",
      "\n",
      "\n",
      "The first 3 entries from the cleaned data set are: [['Photo Editor & Candy Camera & Grid & ScrapBook', 'ART_AND_DESIGN', '4.1', '159', '19M', '10,000+', 'Free', '0', 'Everyone', 'Art & Design', 'January 7, 2018', '1.0.0', '4.0.3 and up'], ['U Launcher Lite – FREE Live Cool Themes, Hide Apps', 'ART_AND_DESIGN', '4.7', '87510', '8.7M', '5,000,000+', 'Free', '0', 'Everyone', 'Art & Design', 'August 1, 2018', '1.2.4', '4.0.3 and up'], ['Sketch - Draw & Paint', 'ART_AND_DESIGN', '4.5', '215644', '25M', '50,000,000+', 'Free', '0', 'Teen', 'Art & Design', 'June 8, 2018', 'Varies with device', '4.2 and up']]\n"
     ]
    }
   ],
   "source": [
    "print('The cleaned data set has', len(android_clean), 'apps')\n",
    "print('\\n')\n",
    "print('The first 3 entries from the cleaned data set are:', android_clean[:3])"
   ]
  },
  {
   "cell_type": "code",
   "execution_count": 43,
   "id": "6cb8c667",
   "metadata": {},
   "outputs": [],
   "source": [
    "def ascii(string):\n",
    "    i = 0\n",
    "    for character in string:\n",
    "        if ord(character) > 127:\n",
    "            i += 1\n",
    "    if i > 3:\n",
    "        return False\n",
    "    return True"
   ]
  },
  {
   "cell_type": "markdown",
   "id": "0745dd4f",
   "metadata": {},
   "source": [
    "The above function checks if more than three characters from the app's name are outside the ASCII range. If so, we'll assume the app is not targeted towards english speakers."
   ]
  },
  {
   "cell_type": "code",
   "execution_count": 46,
   "id": "1f842c38",
   "metadata": {},
   "outputs": [
    {
     "name": "stdout",
     "output_type": "stream",
     "text": [
      "Number of apps on the Apple AppStore targeted towards English speakers:  6183\n",
      "Number of apps on the Google Play Store targeted towards English speakers:  9614\n"
     ]
    }
   ],
   "source": [
    "google_english = []\n",
    "apple_english = []\n",
    "for app in android_clean:\n",
    "    name = app[0]\n",
    "    if ascii(name) == True:\n",
    "        google_english.append(app)\n",
    "\n",
    "for app in apple[1:]:\n",
    "    name = app[1]\n",
    "    if ascii(name) == True:\n",
    "        apple_english.append(app)\n",
    "\n",
    "print('Number of apps on the Apple AppStore targeted towards English speakers: ', len(apple_english))\n",
    "print('Number of apps on the Google Play Store targeted towards English speakers: ', len(google_english))"
   ]
  },
  {
   "cell_type": "code",
   "execution_count": 47,
   "id": "7a247b7e",
   "metadata": {},
   "outputs": [
    {
     "name": "stdout",
     "output_type": "stream",
     "text": [
      "Number of free apps on the Apple AppStore targeted towards English speakers:  3222\n",
      "Number of free apps on the Google Play Store targeted towards English speakers:  8864\n"
     ]
    }
   ],
   "source": [
    "free_google = []\n",
    "free_apple = []\n",
    "for app in google_english:\n",
    "    price = app[7]\n",
    "    if price == '0':\n",
    "        free_google.append(app)\n",
    "        \n",
    "for app in apple_english:\n",
    "    price = app[4]\n",
    "    if price == '0.0':\n",
    "        free_apple.append(app)\n",
    "\n",
    "print('Number of free apps on the Apple AppStore targeted towards English speakers: ', len(free_apple))\n",
    "print('Number of free apps on the Google Play Store targeted towards English speakers: ', len(free_google))"
   ]
  },
  {
   "cell_type": "markdown",
   "id": "511de77b",
   "metadata": {},
   "source": [
    "As mentioned in the introduction, our goal is to determine the kinds of apps that are likely to attract more users because the number of people using our apps affect our revenue.\n",
    "\n",
    "To minimize risks and overhead, the validation strategy for an app idea has three steps:\n",
    "\n",
    "1. Build a minimal Android version of the app, and add it to Google Play.\n",
    "2. If the app has a good response from users, develop it further.\n",
    "3. If the app is profitable after six months, build an iOS version of the app and add it to the App Store.\n",
    "\n",
    "The end goal is to add the app on both Google Play and the App Store, so we need to find app profiles that are successful in both markets. For instance, a profile that works well for both markets might be a productivity app that makes use of gamification."
   ]
  },
  {
   "cell_type": "code",
   "execution_count": 49,
   "id": "2d623a50",
   "metadata": {},
   "outputs": [],
   "source": [
    "def freq_table(dataset, index):\n",
    "    frequency_table = {}\n",
    "\n",
    "    for row in dataset:\n",
    "        freq = row[index]\n",
    "        if freq in frequency_table:\n",
    "            frequency_table[freq] += 1\n",
    "        else:\n",
    "            frequency_table[freq] = 1\n",
    "\n",
    "    for value in frequency_table:            \n",
    "        frequency_table[value] = frequency_table[value]/len(dataset)*100\n",
    "    return frequency_table"
   ]
  },
  {
   "cell_type": "markdown",
   "id": "1b032e2a",
   "metadata": {},
   "source": [
    "The above function creates a frequency table with frequencies expressed as percentages. The function below sorts the frequency table in descending order."
   ]
  },
  {
   "cell_type": "code",
   "execution_count": 51,
   "id": "862aaeba",
   "metadata": {},
   "outputs": [],
   "source": [
    "def display_table(dataset, index):\n",
    "    table = freq_table(dataset, index)\n",
    "    table_display = []\n",
    "    for key in table:\n",
    "        key_val_as_tuple = (table[key], key)\n",
    "        table_display.append(key_val_as_tuple)\n",
    "\n",
    "    table_sorted = sorted(table_display, reverse = True)\n",
    "    for entry in table_sorted:\n",
    "        print(entry[1], ':', entry[0])"
   ]
  },
  {
   "cell_type": "code",
   "execution_count": 52,
   "id": "26d12a57",
   "metadata": {},
   "outputs": [
    {
     "name": "stdout",
     "output_type": "stream",
     "text": [
      "Frequency table of app genres on the AppStore: \n",
      "\n",
      "\n",
      "Games : 58.16263190564867\n",
      "Entertainment : 7.883302296710118\n",
      "Photo & Video : 4.9658597144630665\n",
      "Education : 3.662321539416512\n",
      "Social Networking : 3.2898820608317814\n",
      "Shopping : 2.60707635009311\n",
      "Utilities : 2.5139664804469275\n",
      "Sports : 2.1415270018621975\n",
      "Music : 2.0484171322160147\n",
      "Health & Fitness : 2.0173805090006205\n",
      "Productivity : 1.7380509000620732\n",
      "Lifestyle : 1.5828677839851024\n",
      "News : 1.3345747982619491\n",
      "Travel : 1.2414649286157666\n",
      "Finance : 1.1173184357541899\n",
      "Weather : 0.8690254500310366\n",
      "Food & Drink : 0.8069522036002483\n",
      "Reference : 0.5586592178770949\n",
      "Business : 0.5276225946617008\n",
      "Book : 0.4345127250155183\n",
      "Navigation : 0.186219739292365\n",
      "Medical : 0.186219739292365\n",
      "Catalogs : 0.12414649286157665\n"
     ]
    }
   ],
   "source": [
    "print('Frequency table of app genres on the AppStore: ')\n",
    "print('\\n')\n",
    "display_table(free_apple, 11)"
   ]
  },
  {
   "cell_type": "code",
   "execution_count": 53,
   "id": "2d74aa3f",
   "metadata": {},
   "outputs": [
    {
     "name": "stdout",
     "output_type": "stream",
     "text": [
      "Frequency table of app genres on the GooglePlay Store: \n",
      "\n",
      "\n",
      "Tools : 8.449909747292418\n",
      "Entertainment : 6.069494584837545\n",
      "Education : 5.347472924187725\n",
      "Business : 4.591606498194946\n",
      "Productivity : 3.892148014440433\n",
      "Lifestyle : 3.892148014440433\n",
      "Finance : 3.7003610108303246\n",
      "Medical : 3.531137184115524\n",
      "Sports : 3.463447653429603\n",
      "Personalization : 3.3167870036101084\n",
      "Communication : 3.2378158844765346\n",
      "Action : 3.1024368231046933\n",
      "Health & Fitness : 3.0798736462093865\n",
      "Photography : 2.944494584837545\n",
      "News & Magazines : 2.7978339350180503\n",
      "Social : 2.6624548736462095\n",
      "Travel & Local : 2.3240072202166067\n",
      "Shopping : 2.2450361010830324\n",
      "Books & Reference : 2.1435018050541514\n",
      "Simulation : 2.0419675090252705\n",
      "Dating : 1.861462093862816\n",
      "Arcade : 1.8501805054151623\n",
      "Video Players & Editors : 1.7712093862815883\n",
      "Casual : 1.7599277978339352\n",
      "Maps & Navigation : 1.3989169675090252\n",
      "Food & Drink : 1.2409747292418771\n",
      "Puzzle : 1.128158844765343\n",
      "Racing : 0.9927797833935018\n",
      "Role Playing : 0.9363718411552346\n",
      "Libraries & Demo : 0.9363718411552346\n",
      "Auto & Vehicles : 0.9250902527075812\n",
      "Strategy : 0.9138086642599278\n",
      "House & Home : 0.8235559566787004\n",
      "Weather : 0.8009927797833934\n",
      "Events : 0.7107400722021661\n",
      "Adventure : 0.6768953068592057\n",
      "Comics : 0.6092057761732852\n",
      "Beauty : 0.5979241877256317\n",
      "Art & Design : 0.5979241877256317\n",
      "Parenting : 0.4963898916967509\n",
      "Card : 0.45126353790613716\n",
      "Casino : 0.42870036101083037\n",
      "Trivia : 0.41741877256317694\n",
      "Educational;Education : 0.39485559566787\n",
      "Board : 0.3835740072202166\n",
      "Educational : 0.3722924187725632\n",
      "Education;Education : 0.33844765342960287\n",
      "Word : 0.2594765342960289\n",
      "Casual;Pretend Play : 0.236913357400722\n",
      "Music : 0.2030685920577617\n",
      "Racing;Action & Adventure : 0.16922382671480143\n",
      "Puzzle;Brain Games : 0.16922382671480143\n",
      "Entertainment;Music & Video : 0.16922382671480143\n",
      "Casual;Brain Games : 0.13537906137184114\n",
      "Casual;Action & Adventure : 0.13537906137184114\n",
      "Arcade;Action & Adventure : 0.12409747292418773\n",
      "Action;Action & Adventure : 0.10153429602888085\n",
      "Educational;Pretend Play : 0.09025270758122744\n",
      "Simulation;Action & Adventure : 0.078971119133574\n",
      "Parenting;Education : 0.078971119133574\n",
      "Entertainment;Brain Games : 0.078971119133574\n",
      "Board;Brain Games : 0.078971119133574\n",
      "Parenting;Music & Video : 0.06768953068592057\n",
      "Educational;Brain Games : 0.06768953068592057\n",
      "Casual;Creativity : 0.06768953068592057\n",
      "Art & Design;Creativity : 0.06768953068592057\n",
      "Education;Pretend Play : 0.056407942238267145\n",
      "Role Playing;Pretend Play : 0.04512635379061372\n",
      "Education;Creativity : 0.04512635379061372\n",
      "Role Playing;Action & Adventure : 0.033844765342960284\n",
      "Puzzle;Action & Adventure : 0.033844765342960284\n",
      "Entertainment;Creativity : 0.033844765342960284\n",
      "Entertainment;Action & Adventure : 0.033844765342960284\n",
      "Educational;Creativity : 0.033844765342960284\n",
      "Educational;Action & Adventure : 0.033844765342960284\n",
      "Education;Music & Video : 0.033844765342960284\n",
      "Education;Brain Games : 0.033844765342960284\n",
      "Education;Action & Adventure : 0.033844765342960284\n",
      "Adventure;Action & Adventure : 0.033844765342960284\n",
      "Video Players & Editors;Music & Video : 0.02256317689530686\n",
      "Sports;Action & Adventure : 0.02256317689530686\n",
      "Simulation;Pretend Play : 0.02256317689530686\n",
      "Puzzle;Creativity : 0.02256317689530686\n",
      "Music;Music & Video : 0.02256317689530686\n",
      "Entertainment;Pretend Play : 0.02256317689530686\n",
      "Casual;Education : 0.02256317689530686\n",
      "Board;Action & Adventure : 0.02256317689530686\n",
      "Video Players & Editors;Creativity : 0.01128158844765343\n",
      "Trivia;Education : 0.01128158844765343\n",
      "Travel & Local;Action & Adventure : 0.01128158844765343\n",
      "Tools;Education : 0.01128158844765343\n",
      "Strategy;Education : 0.01128158844765343\n",
      "Strategy;Creativity : 0.01128158844765343\n",
      "Strategy;Action & Adventure : 0.01128158844765343\n",
      "Simulation;Education : 0.01128158844765343\n",
      "Role Playing;Brain Games : 0.01128158844765343\n",
      "Racing;Pretend Play : 0.01128158844765343\n",
      "Puzzle;Education : 0.01128158844765343\n",
      "Parenting;Brain Games : 0.01128158844765343\n",
      "Music & Audio;Music & Video : 0.01128158844765343\n",
      "Lifestyle;Pretend Play : 0.01128158844765343\n",
      "Lifestyle;Education : 0.01128158844765343\n",
      "Health & Fitness;Education : 0.01128158844765343\n",
      "Health & Fitness;Action & Adventure : 0.01128158844765343\n",
      "Entertainment;Education : 0.01128158844765343\n",
      "Communication;Creativity : 0.01128158844765343\n",
      "Comics;Creativity : 0.01128158844765343\n",
      "Casual;Music & Video : 0.01128158844765343\n",
      "Card;Action & Adventure : 0.01128158844765343\n",
      "Books & Reference;Education : 0.01128158844765343\n",
      "Art & Design;Pretend Play : 0.01128158844765343\n",
      "Art & Design;Action & Adventure : 0.01128158844765343\n",
      "Arcade;Pretend Play : 0.01128158844765343\n",
      "Adventure;Education : 0.01128158844765343\n"
     ]
    }
   ],
   "source": [
    "print('Frequency table of app genres on the GooglePlay Store: ')\n",
    "print('\\n')\n",
    "display_table(free_google, 9)"
   ]
  },
  {
   "cell_type": "code",
   "execution_count": 54,
   "id": "4fab8fe5",
   "metadata": {},
   "outputs": [
    {
     "name": "stdout",
     "output_type": "stream",
     "text": [
      "Frequency table of app categories on the GooglePlay Store: \n",
      "\n",
      "\n",
      "FAMILY : 18.907942238267147\n",
      "GAME : 9.724729241877256\n",
      "TOOLS : 8.461191335740072\n",
      "BUSINESS : 4.591606498194946\n",
      "LIFESTYLE : 3.9034296028880866\n",
      "PRODUCTIVITY : 3.892148014440433\n",
      "FINANCE : 3.7003610108303246\n",
      "MEDICAL : 3.531137184115524\n",
      "SPORTS : 3.395758122743682\n",
      "PERSONALIZATION : 3.3167870036101084\n",
      "COMMUNICATION : 3.2378158844765346\n",
      "HEALTH_AND_FITNESS : 3.0798736462093865\n",
      "PHOTOGRAPHY : 2.944494584837545\n",
      "NEWS_AND_MAGAZINES : 2.7978339350180503\n",
      "SOCIAL : 2.6624548736462095\n",
      "TRAVEL_AND_LOCAL : 2.33528880866426\n",
      "SHOPPING : 2.2450361010830324\n",
      "BOOKS_AND_REFERENCE : 2.1435018050541514\n",
      "DATING : 1.861462093862816\n",
      "VIDEO_PLAYERS : 1.7937725631768955\n",
      "MAPS_AND_NAVIGATION : 1.3989169675090252\n",
      "FOOD_AND_DRINK : 1.2409747292418771\n",
      "EDUCATION : 1.1620036101083033\n",
      "ENTERTAINMENT : 0.9589350180505415\n",
      "LIBRARIES_AND_DEMO : 0.9363718411552346\n",
      "AUTO_AND_VEHICLES : 0.9250902527075812\n",
      "HOUSE_AND_HOME : 0.8235559566787004\n",
      "WEATHER : 0.8009927797833934\n",
      "EVENTS : 0.7107400722021661\n",
      "PARENTING : 0.6543321299638989\n",
      "ART_AND_DESIGN : 0.6430505415162455\n",
      "COMICS : 0.6204873646209386\n",
      "BEAUTY : 0.5979241877256317\n"
     ]
    }
   ],
   "source": [
    "print('Frequency table of app categories on the GooglePlay Store: ')\n",
    "print('\\n')\n",
    "display_table(free_google, 1)"
   ]
  },
  {
   "cell_type": "markdown",
   "id": "2ce4a19c",
   "metadata": {},
   "source": [
    "The most common genres and categories of free English Google apps are Family, Entertainment, Tools, Games and Education. Family represents the most abundant cateogory of app on the Google PlayStore and Tools are the most abundant genre and the third most abundant category. Compared to the iOS apps, there is not such a big difference between the 1st and 2nd most numerous apps. However, there are many more genres for the Google apps compared to the Apple ones."
   ]
  },
  {
   "cell_type": "markdown",
   "id": "35769ce4",
   "metadata": {},
   "source": [
    "An entertainment app (including games), or a family-oriented app seem to be the most popular choices of apps on both markets. Due to their abundance they probably have the most number of users as well"
   ]
  },
  {
   "cell_type": "code",
   "execution_count": 56,
   "id": "45b6d0c9",
   "metadata": {},
   "outputs": [],
   "source": [
    "freq_table_apple = freq_table(free_apple,11)"
   ]
  },
  {
   "cell_type": "code",
   "execution_count": 57,
   "id": "fe1aa289",
   "metadata": {},
   "outputs": [
    {
     "name": "stdout",
     "output_type": "stream",
     "text": [
      "Social Networking : 71548.34905660378\n",
      "Photo & Video : 28441.54375\n",
      "Games : 22788.6696905016\n",
      "Music : 57326.530303030304\n",
      "Reference : 74942.11111111111\n",
      "Health & Fitness : 23298.015384615384\n",
      "Weather : 52279.892857142855\n",
      "Utilities : 18684.456790123455\n",
      "Travel : 28243.8\n",
      "Shopping : 26919.690476190477\n",
      "News : 21248.023255813954\n",
      "Navigation : 86090.33333333333\n",
      "Lifestyle : 16485.764705882353\n",
      "Entertainment : 14029.830708661417\n",
      "Food & Drink : 33333.92307692308\n",
      "Sports : 23008.898550724636\n",
      "Book : 39758.5\n",
      "Finance : 31467.944444444445\n",
      "Education : 7003.983050847458\n",
      "Productivity : 21028.410714285714\n",
      "Business : 7491.117647058823\n",
      "Catalogs : 4004.0\n",
      "Medical : 612.0\n"
     ]
    }
   ],
   "source": [
    "for genre in freq_table_apple:\n",
    "    total = 0\n",
    "    len_genre = 0\n",
    "    for app in free_apple:\n",
    "        genre_app = app[11]\n",
    "        if genre_app == genre:\n",
    "            total += float(app[5])\n",
    "            len_genre += 1\n",
    "    average_apple = total / len_genre\n",
    "    print(genre,':',average_apple)\n",
    "    "
   ]
  },
  {
   "cell_type": "markdown",
   "id": "28451025",
   "metadata": {},
   "source": [
    "The above creates a frequency table of the number of ratings for each app category on the AppStore. It seems that Reference and Music apps have the highest numbeer of ratings on average, meaning they have the most users as well. So an app with any of these two profiles would prove most successful, more than the gaming app previously thought of."
   ]
  },
  {
   "cell_type": "code",
   "execution_count": 58,
   "id": "572b2ce0",
   "metadata": {},
   "outputs": [],
   "source": [
    "freq_table_google = freq_table(free_google, 1)"
   ]
  },
  {
   "cell_type": "code",
   "execution_count": 59,
   "id": "3dba5704",
   "metadata": {},
   "outputs": [
    {
     "name": "stdout",
     "output_type": "stream",
     "text": [
      "ART_AND_DESIGN : 1986335.0877192982\n",
      "AUTO_AND_VEHICLES : 647317.8170731707\n",
      "BEAUTY : 513151.88679245283\n",
      "BOOKS_AND_REFERENCE : 8767811.894736841\n",
      "BUSINESS : 1712290.1474201474\n",
      "COMICS : 817657.2727272727\n",
      "COMMUNICATION : 38456119.167247385\n",
      "DATING : 854028.8303030303\n",
      "EDUCATION : 1833495.145631068\n",
      "ENTERTAINMENT : 11640705.88235294\n",
      "EVENTS : 253542.22222222222\n",
      "FINANCE : 1387692.475609756\n",
      "FOOD_AND_DRINK : 1924897.7363636363\n",
      "HEALTH_AND_FITNESS : 4188821.9853479853\n",
      "HOUSE_AND_HOME : 1331540.5616438356\n",
      "LIBRARIES_AND_DEMO : 638503.734939759\n",
      "LIFESTYLE : 1437816.2687861272\n",
      "GAME : 15588015.603248259\n",
      "FAMILY : 3695641.8198090694\n",
      "MEDICAL : 120550.61980830671\n",
      "SOCIAL : 23253652.127118643\n",
      "SHOPPING : 7036877.311557789\n",
      "PHOTOGRAPHY : 17840110.40229885\n",
      "SPORTS : 3638640.1428571427\n",
      "TRAVEL_AND_LOCAL : 13984077.710144928\n",
      "TOOLS : 10801391.298666667\n",
      "PERSONALIZATION : 5201482.6122448975\n",
      "PRODUCTIVITY : 16787331.344927534\n",
      "PARENTING : 542603.6206896552\n",
      "WEATHER : 5074486.197183099\n",
      "VIDEO_PLAYERS : 24727872.452830188\n",
      "NEWS_AND_MAGAZINES : 9549178.467741935\n",
      "MAPS_AND_NAVIGATION : 4056941.7741935486\n"
     ]
    }
   ],
   "source": [
    "for category in freq_table_google:\n",
    "    total = 0\n",
    "    len_category = 0\n",
    "    for app in free_google:\n",
    "        category_app = app[1]\n",
    "        if category_app == category:\n",
    "            installs = app[5]\n",
    "            installs = installs.replace('+', '')\n",
    "            installs = installs.replace(',', '')\n",
    "            total += float(installs)\n",
    "            len_category += 1\n",
    "    average_google = total / len_category\n",
    "    print(category,':',average_google)"
   ]
  },
  {
   "cell_type": "markdown",
   "id": "33b3cede",
   "metadata": {},
   "source": [
    "From the above frequency table for Google Play app installs we can see that communication and video player apps have the most installs. The third most downloaded category is social apps, which is also very popular with iOS users. \n",
    "\n",
    "What needs to be looked at in more detail is the number of apps downloaded for each genre/category for each market. For example, only a couple of apps can have  a lot of installs, dominating their specific genres and making it very hard for a new app of the same genre to compete with them. One might instinctively think Instagram, Facebook and Twitter are examples of such apps in the social app category.\n",
    "\n",
    "All in all, more research needs to be done in order to find a profitable app that will have enough downloads and generate a good amount of revenue from in-app ads."
   ]
  },
  {
   "cell_type": "code",
   "execution_count": null,
   "id": "af2f5f2f",
   "metadata": {},
   "outputs": [],
   "source": []
  }
 ],
 "metadata": {
  "kernelspec": {
   "display_name": "Python 3 (ipykernel)",
   "language": "python",
   "name": "python3"
  },
  "language_info": {
   "codemirror_mode": {
    "name": "ipython",
    "version": 3
   },
   "file_extension": ".py",
   "mimetype": "text/x-python",
   "name": "python",
   "nbconvert_exporter": "python",
   "pygments_lexer": "ipython3",
   "version": "3.9.13"
  }
 },
 "nbformat": 4,
 "nbformat_minor": 5
}
